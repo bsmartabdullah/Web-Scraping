{
  "nbformat": 4,
  "nbformat_minor": 0,
  "metadata": {
    "colab": {
      "provenance": [],
      "authorship_tag": "ABX9TyPeurPDxcmh3DHzPCWTXRF/",
      "include_colab_link": true
    },
    "kernelspec": {
      "name": "python3",
      "display_name": "Python 3"
    },
    "language_info": {
      "name": "python"
    }
  },
  "cells": [
    {
      "cell_type": "markdown",
      "metadata": {
        "id": "view-in-github",
        "colab_type": "text"
      },
      "source": [
        "<a href=\"https://colab.research.google.com/github/bsmartabdullah/Web-Scraping/blob/main/Web_Scraping.ipynb\" target=\"_parent\"><img src=\"https://colab.research.google.com/assets/colab-badge.svg\" alt=\"Open In Colab\"/></a>"
      ]
    },
    {
      "cell_type": "code",
      "execution_count": null,
      "metadata": {
        "id": "rZ1t-TEQ47fq"
      },
      "outputs": [],
      "source": [
        "import requests\n",
        "from bs4 import BeautifulSoup as bs\n",
        "import numpy as np\n",
        "import pandas as pd\n",
        "\n"
      ]
    },
    {
      "cell_type": "code",
      "source": [
        "url = 'https://www.amazon.com/Apple-iPhone-Pro-128GB-Gold/product-reviews/B0BN95M84Q/ref=cm_cr_dp_d_show_all_btm?ie=UTF8&reviewerType=all_reviews'\n",
        "page = requests.get(url)\n",
        "page"
      ],
      "metadata": {
        "colab": {
          "base_uri": "https://localhost:8080/"
        },
        "id": "NeWyaYC1_ipK",
        "outputId": "c36e4dac-9622-447c-eee5-87d51bc7cf5f"
      },
      "execution_count": null,
      "outputs": [
        {
          "output_type": "execute_result",
          "data": {
            "text/plain": [
              "<Response [200]>"
            ]
          },
          "metadata": {},
          "execution_count": 385
        }
      ]
    },
    {
      "cell_type": "code",
      "source": [
        "page.content"
      ],
      "metadata": {
        "id": "PZl39mpJAGAj"
      },
      "execution_count": null,
      "outputs": []
    },
    {
      "cell_type": "code",
      "source": [
        "soup = bs(page.content,'html.parser')\n"
      ],
      "metadata": {
        "id": "BSGUQxMj58xC"
      },
      "execution_count": null,
      "outputs": []
    },
    {
      "cell_type": "code",
      "source": [
        "names = soup.find_all('span',class_ ='a-profile-name')[2:]\n",
        "names"
      ],
      "metadata": {
        "id": "B-I1ZLSg6EPK"
      },
      "execution_count": null,
      "outputs": []
    },
    {
      "cell_type": "code",
      "source": [
        "type(names)"
      ],
      "metadata": {
        "colab": {
          "base_uri": "https://localhost:8080/"
        },
        "id": "qltmG_ol7EZt",
        "outputId": "56331b8b-b590-4018-aed9-671834a691cd"
      },
      "execution_count": null,
      "outputs": [
        {
          "output_type": "execute_result",
          "data": {
            "text/plain": [
              "list"
            ]
          },
          "metadata": {},
          "execution_count": 407
        }
      ]
    },
    {
      "cell_type": "code",
      "source": [
        "len(names)"
      ],
      "metadata": {
        "colab": {
          "base_uri": "https://localhost:8080/"
        },
        "id": "lYHY5lkbAS5Y",
        "outputId": "8f33aa4b-9ffa-4a06-ef7a-37b5655d2f16"
      },
      "execution_count": null,
      "outputs": [
        {
          "output_type": "execute_result",
          "data": {
            "text/plain": [
              "10"
            ]
          },
          "metadata": {},
          "execution_count": 434
        }
      ]
    },
    {
      "cell_type": "code",
      "source": [
        "import pandas as pd\n",
        "ab=pd.DataFrame(names, columns= ['Customer_Names'] )\n",
        "ab"
      ],
      "metadata": {
        "id": "gjpacWCuArJz"
      },
      "execution_count": null,
      "outputs": []
    },
    {
      "cell_type": "code",
      "source": [
        "Customer_Names =[]\n",
        "for i in range(0,len(names)):\n",
        "  Customer_Names.append(names[i].get_text())\n",
        "Customer_Names"
      ],
      "metadata": {
        "id": "am7egIijSxnm"
      },
      "execution_count": null,
      "outputs": []
    },
    {
      "cell_type": "code",
      "source": [
        "r_title = soup.find_all('a',class_ = 'review-title')\n",
        "r_title\n"
      ],
      "metadata": {
        "id": "7JI4pfXQBUqM"
      },
      "execution_count": null,
      "outputs": []
    },
    {
      "cell_type": "code",
      "source": [
        "len(r_title)"
      ],
      "metadata": {
        "colab": {
          "base_uri": "https://localhost:8080/"
        },
        "id": "-TTdQgfYDm15",
        "outputId": "6d142329-e275-458a-98b6-3c9d0f1514e6"
      },
      "execution_count": null,
      "outputs": [
        {
          "output_type": "execute_result",
          "data": {
            "text/plain": [
              "10"
            ]
          },
          "metadata": {},
          "execution_count": 435
        }
      ]
    },
    {
      "cell_type": "code",
      "source": [
        "review_title = []\n",
        "for i in range(0,len(r_title)):\n",
        "  review_title.append(r_title[i].get_text()[19:-1])\n",
        "review_title"
      ],
      "metadata": {
        "colab": {
          "base_uri": "https://localhost:8080/"
        },
        "id": "hgfVacy1EihX",
        "outputId": "51bdc212-2327-48b8-ce6b-b218abbf63f5"
      },
      "execution_count": null,
      "outputs": [
        {
          "output_type": "execute_result",
          "data": {
            "text/plain": [
              "['Better than I thought',\n",
              " 'Just as expected!',\n",
              " 'iOS is outdated',\n",
              " 'Excellent',\n",
              " 'Excellent condition',\n",
              " 'Verry good - Almost new',\n",
              " 'Customer Service & a Product that’s AAA Quality',\n",
              " 'Very happy with my new phone!',\n",
              " 'buen producto y excelente precio',\n",
              " 'Over heating']"
            ]
          },
          "metadata": {},
          "execution_count": 285
        }
      ]
    },
    {
      "cell_type": "code",
      "source": [
        "dates = soup.find_all('span', class_ ='review-date')[2:]\n",
        "dates"
      ],
      "metadata": {
        "id": "AHhkueJwJdlw"
      },
      "execution_count": null,
      "outputs": []
    },
    {
      "cell_type": "code",
      "source": [
        "len(dates)"
      ],
      "metadata": {
        "colab": {
          "base_uri": "https://localhost:8080/"
        },
        "id": "H4EP4hfKK75Y",
        "outputId": "05325822-667e-48d9-99d0-ccab9b0f0fc9"
      },
      "execution_count": null,
      "outputs": [
        {
          "output_type": "execute_result",
          "data": {
            "text/plain": [
              "10"
            ]
          },
          "metadata": {},
          "execution_count": 437
        }
      ]
    },
    {
      "cell_type": "code",
      "source": [
        "review_dates = []\n",
        "for i in range(0,len(dates)):\n",
        "  review_dates.append(dates[i].get_text()[32:])\n",
        "review_dates"
      ],
      "metadata": {
        "colab": {
          "base_uri": "https://localhost:8080/"
        },
        "id": "DeCv5RLKLA1h",
        "outputId": "4f097b81-06af-436c-c272-711946f686e8"
      },
      "execution_count": null,
      "outputs": [
        {
          "output_type": "execute_result",
          "data": {
            "text/plain": [
              "[' November 15, 2023',\n",
              " ' November 9, 2023',\n",
              " ' October 25, 2023',\n",
              " ' November 7, 2023',\n",
              " ' November 11, 2023',\n",
              " ' October 24, 2023',\n",
              " ' October 27, 2023',\n",
              " ' October 22, 2023',\n",
              " ' November 7, 2023',\n",
              " ' November 8, 2023']"
            ]
          },
          "metadata": {},
          "execution_count": 438
        }
      ]
    },
    {
      "cell_type": "code",
      "source": [
        "rating = soup.find_all('i',class_ = 'review-rating')[2:]\n",
        "rating"
      ],
      "metadata": {
        "id": "7Dq1He3SL7KK"
      },
      "execution_count": null,
      "outputs": []
    },
    {
      "cell_type": "code",
      "source": [
        "len(rating)"
      ],
      "metadata": {
        "colab": {
          "base_uri": "https://localhost:8080/"
        },
        "id": "9yQQPRNCMc0v",
        "outputId": "5fc11802-c113-46d3-d749-4d88698ddcb4"
      },
      "execution_count": null,
      "outputs": [
        {
          "output_type": "execute_result",
          "data": {
            "text/plain": [
              "10"
            ]
          },
          "metadata": {},
          "execution_count": 430
        }
      ]
    },
    {
      "cell_type": "code",
      "source": [
        "review_rating = []\n",
        "for i in range(0,len(rating)):\n",
        "  review_rating.append(rating[i].get_text())\n",
        "review_rating"
      ],
      "metadata": {
        "id": "CHun1aZxMgh1"
      },
      "execution_count": null,
      "outputs": []
    },
    {
      "cell_type": "code",
      "source": [
        "act_rev = soup.find_all('span', class_ = 'review-text-content')\n",
        "act_rev"
      ],
      "metadata": {
        "id": "l_rHMrhtM4wO"
      },
      "execution_count": null,
      "outputs": []
    },
    {
      "cell_type": "code",
      "source": [
        "len(act_rev)"
      ],
      "metadata": {
        "colab": {
          "base_uri": "https://localhost:8080/"
        },
        "id": "kRhTsaKbNQZV",
        "outputId": "9c751977-74a0-4095-eb66-840c99beecfe"
      },
      "execution_count": null,
      "outputs": [
        {
          "output_type": "execute_result",
          "data": {
            "text/plain": [
              "10"
            ]
          },
          "metadata": {},
          "execution_count": 429
        }
      ]
    },
    {
      "cell_type": "code",
      "source": [
        "reviews_content =[]\n",
        "for i in range(0,len(act_rev)):\n",
        "  reviews_content.append(act_rev[i].get_text()[1:-1])\n",
        "reviews_content"
      ],
      "metadata": {
        "id": "vRZIzVL6NTih"
      },
      "execution_count": null,
      "outputs": []
    },
    {
      "cell_type": "code",
      "source": [
        "\n",
        "df['Review Title'] = review_title\n",
        "df['Review '] = reviews_content\n",
        "df['Date'] = review_dates\n",
        "df['Rating'] = review_rating\n",
        "df.drop(columns='Customer_Names',axis =1)"
      ],
      "metadata": {
        "colab": {
          "base_uri": "https://localhost:8080/",
          "height": 536
        },
        "id": "vEdPsS6OQs6f",
        "outputId": "8e043cf1-d1ef-4ee1-b551-63dc7988ce64"
      },
      "execution_count": null,
      "outputs": [
        {
          "output_type": "execute_result",
          "data": {
            "text/plain": [
              "            Customer Name                                     Review Title  \\\n",
              "0               David Mac                            Better than I thought   \n",
              "1                  Audrey                                Just as expected!   \n",
              "2                    R.S.                                  iOS is outdated   \n",
              "3                 Emanuel                                        Excellent   \n",
              "4                Anthony                               Excellent condition   \n",
              "5              Kevin D.C.                          Verry good - Almost new   \n",
              "6                   Cyndy  Customer Service & a Product that’s AAA Quality   \n",
              "7                 Natalie                    Very happy with my new phone!   \n",
              "8          Victoria matos                 buen producto y excelente precio   \n",
              "9  Amparo Rivas Rodríguez                                     Over heating   \n",
              "\n",
              "                                             Review                 Date  \\\n",
              "0  I had my doubts about buying renewed products,...   November 15, 2023   \n",
              "1  I love my new phone! It came in a cardboard bo...    November 9, 2023   \n",
              "2  I’ve been on android for the last six years. A...    October 25, 2023   \n",
              "3  Like new. Everything like described. 96% batte...    November 7, 2023   \n",
              "4  First time buying a “renewed” phone.. not gonn...   November 11, 2023   \n",
              "5  This phone came in almost like new condition.T...    October 24, 2023   \n",
              "6  I was contacted by a representative that expla...    October 27, 2023   \n",
              "7  I was a bit nervous to be buying a secondhand ...    October 22, 2023   \n",
              "8  perfecto estado, solo que no es de chip o sim ...    November 7, 2023   \n",
              "9          Se calienta mucho y no le dura la bateria    November 8, 2023   \n",
              "\n",
              "               Rating  \n",
              "0  5.0 out of 5 stars  \n",
              "1  5.0 out of 5 stars  \n",
              "2  3.0 out of 5 stars  \n",
              "3  4.0 out of 5 stars  \n",
              "4  5.0 out of 5 stars  \n",
              "5  5.0 out of 5 stars  \n",
              "6  5.0 out of 5 stars  \n",
              "7  5.0 out of 5 stars  \n",
              "8  4.0 out of 5 stars  \n",
              "9  4.0 out of 5 stars  "
            ],
            "text/html": [
              "\n",
              "  <div id=\"df-0c47b4b6-525b-44cb-9753-3d5335fe4399\" class=\"colab-df-container\">\n",
              "    <div>\n",
              "<style scoped>\n",
              "    .dataframe tbody tr th:only-of-type {\n",
              "        vertical-align: middle;\n",
              "    }\n",
              "\n",
              "    .dataframe tbody tr th {\n",
              "        vertical-align: top;\n",
              "    }\n",
              "\n",
              "    .dataframe thead th {\n",
              "        text-align: right;\n",
              "    }\n",
              "</style>\n",
              "<table border=\"1\" class=\"dataframe\">\n",
              "  <thead>\n",
              "    <tr style=\"text-align: right;\">\n",
              "      <th></th>\n",
              "      <th>Customer Name</th>\n",
              "      <th>Review Title</th>\n",
              "      <th>Review</th>\n",
              "      <th>Date</th>\n",
              "      <th>Rating</th>\n",
              "    </tr>\n",
              "  </thead>\n",
              "  <tbody>\n",
              "    <tr>\n",
              "      <th>0</th>\n",
              "      <td>David Mac</td>\n",
              "      <td>Better than I thought</td>\n",
              "      <td>I had my doubts about buying renewed products,...</td>\n",
              "      <td>November 15, 2023</td>\n",
              "      <td>5.0 out of 5 stars</td>\n",
              "    </tr>\n",
              "    <tr>\n",
              "      <th>1</th>\n",
              "      <td>Audrey</td>\n",
              "      <td>Just as expected!</td>\n",
              "      <td>I love my new phone! It came in a cardboard bo...</td>\n",
              "      <td>November 9, 2023</td>\n",
              "      <td>5.0 out of 5 stars</td>\n",
              "    </tr>\n",
              "    <tr>\n",
              "      <th>2</th>\n",
              "      <td>R.S.</td>\n",
              "      <td>iOS is outdated</td>\n",
              "      <td>I’ve been on android for the last six years. A...</td>\n",
              "      <td>October 25, 2023</td>\n",
              "      <td>3.0 out of 5 stars</td>\n",
              "    </tr>\n",
              "    <tr>\n",
              "      <th>3</th>\n",
              "      <td>Emanuel</td>\n",
              "      <td>Excellent</td>\n",
              "      <td>Like new. Everything like described. 96% batte...</td>\n",
              "      <td>November 7, 2023</td>\n",
              "      <td>4.0 out of 5 stars</td>\n",
              "    </tr>\n",
              "    <tr>\n",
              "      <th>4</th>\n",
              "      <td>Anthony</td>\n",
              "      <td>Excellent condition</td>\n",
              "      <td>First time buying a “renewed” phone.. not gonn...</td>\n",
              "      <td>November 11, 2023</td>\n",
              "      <td>5.0 out of 5 stars</td>\n",
              "    </tr>\n",
              "    <tr>\n",
              "      <th>5</th>\n",
              "      <td>Kevin D.C.</td>\n",
              "      <td>Verry good - Almost new</td>\n",
              "      <td>This phone came in almost like new condition.T...</td>\n",
              "      <td>October 24, 2023</td>\n",
              "      <td>5.0 out of 5 stars</td>\n",
              "    </tr>\n",
              "    <tr>\n",
              "      <th>6</th>\n",
              "      <td>Cyndy</td>\n",
              "      <td>Customer Service &amp; a Product that’s AAA Quality</td>\n",
              "      <td>I was contacted by a representative that expla...</td>\n",
              "      <td>October 27, 2023</td>\n",
              "      <td>5.0 out of 5 stars</td>\n",
              "    </tr>\n",
              "    <tr>\n",
              "      <th>7</th>\n",
              "      <td>Natalie</td>\n",
              "      <td>Very happy with my new phone!</td>\n",
              "      <td>I was a bit nervous to be buying a secondhand ...</td>\n",
              "      <td>October 22, 2023</td>\n",
              "      <td>5.0 out of 5 stars</td>\n",
              "    </tr>\n",
              "    <tr>\n",
              "      <th>8</th>\n",
              "      <td>Victoria matos</td>\n",
              "      <td>buen producto y excelente precio</td>\n",
              "      <td>perfecto estado, solo que no es de chip o sim ...</td>\n",
              "      <td>November 7, 2023</td>\n",
              "      <td>4.0 out of 5 stars</td>\n",
              "    </tr>\n",
              "    <tr>\n",
              "      <th>9</th>\n",
              "      <td>Amparo Rivas Rodríguez</td>\n",
              "      <td>Over heating</td>\n",
              "      <td>Se calienta mucho y no le dura la bateria</td>\n",
              "      <td>November 8, 2023</td>\n",
              "      <td>4.0 out of 5 stars</td>\n",
              "    </tr>\n",
              "  </tbody>\n",
              "</table>\n",
              "</div>\n",
              "    <div class=\"colab-df-buttons\">\n",
              "\n",
              "  <div class=\"colab-df-container\">\n",
              "    <button class=\"colab-df-convert\" onclick=\"convertToInteractive('df-0c47b4b6-525b-44cb-9753-3d5335fe4399')\"\n",
              "            title=\"Convert this dataframe to an interactive table.\"\n",
              "            style=\"display:none;\">\n",
              "\n",
              "  <svg xmlns=\"http://www.w3.org/2000/svg\" height=\"24px\" viewBox=\"0 -960 960 960\">\n",
              "    <path d=\"M120-120v-720h720v720H120Zm60-500h600v-160H180v160Zm220 220h160v-160H400v160Zm0 220h160v-160H400v160ZM180-400h160v-160H180v160Zm440 0h160v-160H620v160ZM180-180h160v-160H180v160Zm440 0h160v-160H620v160Z\"/>\n",
              "  </svg>\n",
              "    </button>\n",
              "\n",
              "  <style>\n",
              "    .colab-df-container {\n",
              "      display:flex;\n",
              "      gap: 12px;\n",
              "    }\n",
              "\n",
              "    .colab-df-convert {\n",
              "      background-color: #E8F0FE;\n",
              "      border: none;\n",
              "      border-radius: 50%;\n",
              "      cursor: pointer;\n",
              "      display: none;\n",
              "      fill: #1967D2;\n",
              "      height: 32px;\n",
              "      padding: 0 0 0 0;\n",
              "      width: 32px;\n",
              "    }\n",
              "\n",
              "    .colab-df-convert:hover {\n",
              "      background-color: #E2EBFA;\n",
              "      box-shadow: 0px 1px 2px rgba(60, 64, 67, 0.3), 0px 1px 3px 1px rgba(60, 64, 67, 0.15);\n",
              "      fill: #174EA6;\n",
              "    }\n",
              "\n",
              "    .colab-df-buttons div {\n",
              "      margin-bottom: 4px;\n",
              "    }\n",
              "\n",
              "    [theme=dark] .colab-df-convert {\n",
              "      background-color: #3B4455;\n",
              "      fill: #D2E3FC;\n",
              "    }\n",
              "\n",
              "    [theme=dark] .colab-df-convert:hover {\n",
              "      background-color: #434B5C;\n",
              "      box-shadow: 0px 1px 3px 1px rgba(0, 0, 0, 0.15);\n",
              "      filter: drop-shadow(0px 1px 2px rgba(0, 0, 0, 0.3));\n",
              "      fill: #FFFFFF;\n",
              "    }\n",
              "  </style>\n",
              "\n",
              "    <script>\n",
              "      const buttonEl =\n",
              "        document.querySelector('#df-0c47b4b6-525b-44cb-9753-3d5335fe4399 button.colab-df-convert');\n",
              "      buttonEl.style.display =\n",
              "        google.colab.kernel.accessAllowed ? 'block' : 'none';\n",
              "\n",
              "      async function convertToInteractive(key) {\n",
              "        const element = document.querySelector('#df-0c47b4b6-525b-44cb-9753-3d5335fe4399');\n",
              "        const dataTable =\n",
              "          await google.colab.kernel.invokeFunction('convertToInteractive',\n",
              "                                                    [key], {});\n",
              "        if (!dataTable) return;\n",
              "\n",
              "        const docLinkHtml = 'Like what you see? Visit the ' +\n",
              "          '<a target=\"_blank\" href=https://colab.research.google.com/notebooks/data_table.ipynb>data table notebook</a>'\n",
              "          + ' to learn more about interactive tables.';\n",
              "        element.innerHTML = '';\n",
              "        dataTable['output_type'] = 'display_data';\n",
              "        await google.colab.output.renderOutput(dataTable, element);\n",
              "        const docLink = document.createElement('div');\n",
              "        docLink.innerHTML = docLinkHtml;\n",
              "        element.appendChild(docLink);\n",
              "      }\n",
              "    </script>\n",
              "  </div>\n",
              "\n",
              "\n",
              "<div id=\"df-364f5b65-e01d-4d3f-86a7-3da9010a6a4e\">\n",
              "  <button class=\"colab-df-quickchart\" onclick=\"quickchart('df-364f5b65-e01d-4d3f-86a7-3da9010a6a4e')\"\n",
              "            title=\"Suggest charts\"\n",
              "            style=\"display:none;\">\n",
              "\n",
              "<svg xmlns=\"http://www.w3.org/2000/svg\" height=\"24px\"viewBox=\"0 0 24 24\"\n",
              "     width=\"24px\">\n",
              "    <g>\n",
              "        <path d=\"M19 3H5c-1.1 0-2 .9-2 2v14c0 1.1.9 2 2 2h14c1.1 0 2-.9 2-2V5c0-1.1-.9-2-2-2zM9 17H7v-7h2v7zm4 0h-2V7h2v10zm4 0h-2v-4h2v4z\"/>\n",
              "    </g>\n",
              "</svg>\n",
              "  </button>\n",
              "\n",
              "<style>\n",
              "  .colab-df-quickchart {\n",
              "      --bg-color: #E8F0FE;\n",
              "      --fill-color: #1967D2;\n",
              "      --hover-bg-color: #E2EBFA;\n",
              "      --hover-fill-color: #174EA6;\n",
              "      --disabled-fill-color: #AAA;\n",
              "      --disabled-bg-color: #DDD;\n",
              "  }\n",
              "\n",
              "  [theme=dark] .colab-df-quickchart {\n",
              "      --bg-color: #3B4455;\n",
              "      --fill-color: #D2E3FC;\n",
              "      --hover-bg-color: #434B5C;\n",
              "      --hover-fill-color: #FFFFFF;\n",
              "      --disabled-bg-color: #3B4455;\n",
              "      --disabled-fill-color: #666;\n",
              "  }\n",
              "\n",
              "  .colab-df-quickchart {\n",
              "    background-color: var(--bg-color);\n",
              "    border: none;\n",
              "    border-radius: 50%;\n",
              "    cursor: pointer;\n",
              "    display: none;\n",
              "    fill: var(--fill-color);\n",
              "    height: 32px;\n",
              "    padding: 0;\n",
              "    width: 32px;\n",
              "  }\n",
              "\n",
              "  .colab-df-quickchart:hover {\n",
              "    background-color: var(--hover-bg-color);\n",
              "    box-shadow: 0 1px 2px rgba(60, 64, 67, 0.3), 0 1px 3px 1px rgba(60, 64, 67, 0.15);\n",
              "    fill: var(--button-hover-fill-color);\n",
              "  }\n",
              "\n",
              "  .colab-df-quickchart-complete:disabled,\n",
              "  .colab-df-quickchart-complete:disabled:hover {\n",
              "    background-color: var(--disabled-bg-color);\n",
              "    fill: var(--disabled-fill-color);\n",
              "    box-shadow: none;\n",
              "  }\n",
              "\n",
              "  .colab-df-spinner {\n",
              "    border: 2px solid var(--fill-color);\n",
              "    border-color: transparent;\n",
              "    border-bottom-color: var(--fill-color);\n",
              "    animation:\n",
              "      spin 1s steps(1) infinite;\n",
              "  }\n",
              "\n",
              "  @keyframes spin {\n",
              "    0% {\n",
              "      border-color: transparent;\n",
              "      border-bottom-color: var(--fill-color);\n",
              "      border-left-color: var(--fill-color);\n",
              "    }\n",
              "    20% {\n",
              "      border-color: transparent;\n",
              "      border-left-color: var(--fill-color);\n",
              "      border-top-color: var(--fill-color);\n",
              "    }\n",
              "    30% {\n",
              "      border-color: transparent;\n",
              "      border-left-color: var(--fill-color);\n",
              "      border-top-color: var(--fill-color);\n",
              "      border-right-color: var(--fill-color);\n",
              "    }\n",
              "    40% {\n",
              "      border-color: transparent;\n",
              "      border-right-color: var(--fill-color);\n",
              "      border-top-color: var(--fill-color);\n",
              "    }\n",
              "    60% {\n",
              "      border-color: transparent;\n",
              "      border-right-color: var(--fill-color);\n",
              "    }\n",
              "    80% {\n",
              "      border-color: transparent;\n",
              "      border-right-color: var(--fill-color);\n",
              "      border-bottom-color: var(--fill-color);\n",
              "    }\n",
              "    90% {\n",
              "      border-color: transparent;\n",
              "      border-bottom-color: var(--fill-color);\n",
              "    }\n",
              "  }\n",
              "</style>\n",
              "\n",
              "  <script>\n",
              "    async function quickchart(key) {\n",
              "      const quickchartButtonEl =\n",
              "        document.querySelector('#' + key + ' button');\n",
              "      quickchartButtonEl.disabled = true;  // To prevent multiple clicks.\n",
              "      quickchartButtonEl.classList.add('colab-df-spinner');\n",
              "      try {\n",
              "        const charts = await google.colab.kernel.invokeFunction(\n",
              "            'suggestCharts', [key], {});\n",
              "      } catch (error) {\n",
              "        console.error('Error during call to suggestCharts:', error);\n",
              "      }\n",
              "      quickchartButtonEl.classList.remove('colab-df-spinner');\n",
              "      quickchartButtonEl.classList.add('colab-df-quickchart-complete');\n",
              "    }\n",
              "    (() => {\n",
              "      let quickchartButtonEl =\n",
              "        document.querySelector('#df-364f5b65-e01d-4d3f-86a7-3da9010a6a4e button');\n",
              "      quickchartButtonEl.style.display =\n",
              "        google.colab.kernel.accessAllowed ? 'block' : 'none';\n",
              "    })();\n",
              "  </script>\n",
              "</div>\n",
              "    </div>\n",
              "  </div>\n"
            ]
          },
          "metadata": {},
          "execution_count": 443
        }
      ]
    }
  ]
}